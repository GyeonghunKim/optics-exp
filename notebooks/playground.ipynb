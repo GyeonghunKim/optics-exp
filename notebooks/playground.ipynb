{
 "cells": [
  {
   "cell_type": "code",
   "execution_count": 1,
   "id": "17e2b169-99e3-4c7a-b62c-e01478e4b4d8",
   "metadata": {},
   "outputs": [],
   "source": [
    "from opticsexp.components.lens_component import LensComponent"
   ]
  },
  {
   "cell_type": "code",
   "execution_count": 2,
   "id": "938068ca-4884-4b10-a055-72a41ad595f0",
   "metadata": {},
   "outputs": [],
   "source": [
    "from opticsexp.utils.visulalize import plot_lens_component"
   ]
  },
  {
   "cell_type": "code",
   "execution_count": 3,
   "id": "ad21b002-1cc1-46ff-942a-7d069fb92720",
   "metadata": {},
   "outputs": [],
   "source": [
    "import numpy as np"
   ]
  },
  {
   "cell_type": "code",
   "execution_count": 4,
   "id": "a7a93e3a-ad4d-4e89-badc-29bc37c36f4a",
   "metadata": {},
   "outputs": [],
   "source": [
    "import matplotlib.pyplot as plt"
   ]
  },
  {
   "cell_type": "code",
   "execution_count": 5,
   "id": "9dbce328-26bf-489d-8f40-1692208bdc77",
   "metadata": {},
   "outputs": [],
   "source": [
    "%matplotlib inline"
   ]
  },
  {
   "cell_type": "code",
   "execution_count": 6,
   "id": "7c43e1a2-4230-4a8b-b789-a3d50fad96ad",
   "metadata": {},
   "outputs": [],
   "source": [
    "lens_component = LensComponent(\"test_lens\")"
   ]
  },
  {
   "cell_type": "code",
   "execution_count": 7,
   "id": "b68b3508-43a6-418c-8681-960e42a52522",
   "metadata": {},
   "outputs": [],
   "source": [
    "lens_component.set_pivot(100, 0)"
   ]
  },
  {
   "cell_type": "code",
   "execution_count": 13,
   "id": "b27419d3-bfa7-4eae-bf4d-09dfdb905a40",
   "metadata": {},
   "outputs": [],
   "source": [
    "lens_component.set_parameter(0, 15)"
   ]
  },
  {
   "cell_type": "code",
   "execution_count": 14,
   "id": "29c886e5-6744-42ac-9fec-0ecb19d2f1a1",
   "metadata": {},
   "outputs": [],
   "source": [
    "lens_component.set_custom_surfaces(None, None, 5, 10)"
   ]
  },
  {
   "cell_type": "code",
   "execution_count": null,
   "id": "2639485a-f930-4fd3-9025-102af9d9606f",
   "metadata": {},
   "outputs": [],
   "source": []
  },
  {
   "cell_type": "code",
   "execution_count": 15,
   "id": "1c19035c-6f37-47f8-a0ab-8c20735515b4",
   "metadata": {},
   "outputs": [
    {
     "data": {
      "image/png": "[encoded data removed]",
      "text/plain": [
       "<Figure size 2000x1000 with 1 Axes>"
      ]
     },
     "metadata": {},
     "output_type": "display_data"
    }
   ],
   "source": [
    "fig, ax = plot_lens_component(lens_component)"
   ]
  },
  {
   "cell_type": "code",
   "execution_count": null,
   "id": "c185b918-b6c7-4d55-91cc-b20fd460a61b",
   "metadata": {},
   "outputs": [],
   "source": []
  },
  {
   "cell_type": "code",
   "execution_count": null,
   "id": "d7392864-c264-4433-8d45-6c2f4587cbe5",
   "metadata": {},
   "outputs": [],
   "source": []
  },
  {
   "cell_type": "code",
   "execution_count": null,
   "id": "45019d2b-d569-4800-9e3e-98c8a74c195f",
   "metadata": {},
   "outputs": [],
   "source": []
  }
 ],
 "metadata": {
  "kernelspec": {
   "display_name": "optics",
   "language": "python",
   "name": "optics"
  },
  "language_info": {
   "codemirror_mode": {
    "name": "ipython",
    "version": 3
   },
   "file_extension": ".py",
   "mimetype": "text/x-python",
   "name": "python",
   "nbconvert_exporter": "python",
   "pygments_lexer": "ipython3",
   "version": "3.8.15"
  }
 },
 "nbformat": 4,
 "nbformat_minor": 5
}
